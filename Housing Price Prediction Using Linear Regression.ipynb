{
 "cells": [
  {
   "cell_type": "code",
   "execution_count": 688,
   "id": "b9ee2afb",
   "metadata": {},
   "outputs": [],
   "source": [
    "'''\n",
    "    Housing Price Predition using Linear Regression(Coursera - assignment 1)\n",
    "    Python Implementation.\n",
    "'''\n",
    "\n",
    "import pandas as pd\n",
    "import numpy as np\n",
    "from scipy.interpolate import make_interp_spline"
   ]
  },
  {
   "cell_type": "code",
   "execution_count": 689,
   "id": "77f0d2f7",
   "metadata": {},
   "outputs": [],
   "source": [
    "'''\n",
    "    Cost Function\n",
    "    \n",
    "    This function computes the cost using the squared error function for linear regression.\n",
    "'''\n",
    "def computeCost(X,y,theta,m):\n",
    "    tempMatrix = np.dot(X,theta)\n",
    "    price = np.array(y);\n",
    "    \n",
    "    j = (1 / (2*m)) * sum(np.square(np.subtract(tempMatrix,price)));\n",
    "    \n",
    "    return j;"
   ]
  },
  {
   "cell_type": "code",
   "execution_count": 690,
   "id": "4d4c097f",
   "metadata": {
    "scrolled": false
   },
   "outputs": [],
   "source": [
    "'''\n",
    "    Gradient Descent\n",
    "    \n",
    "    This runs the gradient descent algorithm to compute the value of the parameter vector theta\n",
    "'''\n",
    "def gradientDescent(X,y,theta,alpha,num_itr):\n",
    "    m = len(X);\n",
    "    \n",
    "    j_history = np.zeros(num_itr);\n",
    "    price = np.array(y);\n",
    "    \n",
    "    for i in range(num_itr):\n",
    "        theta = np.subtract(theta,((alpha / m) * (X.T)@(X@theta - price)));\n",
    "        j_history[i] = computeCost(X,y,theta,m);\n",
    "    \n",
    "    return theta, j_history;\n",
    "    "
   ]
  },
  {
   "cell_type": "code",
   "execution_count": 746,
   "id": "5169cd1f",
   "metadata": {},
   "outputs": [],
   "source": [
    "'''\n",
    "    Feature Normalisation\n",
    "    \n",
    "    This function adds the first column of all ones to the training set and normalises the features.\n",
    "'''\n",
    "def normaliseTrainingData(X, mean_matrix, std_matrix):\n",
    "    normalisedTrainingSet = np.c_[np.ones(len(X)), (np.array((X - mean_matrix).T / std_matrix)).T];\n",
    "                                      \n",
    "    return normalisedTrainingSet;"
   ]
  },
  {
   "cell_type": "code",
   "execution_count": 747,
   "id": "2b351896",
   "metadata": {},
   "outputs": [],
   "source": [
    "'''\n",
    "    Normal Equation\n",
    "        \n",
    "    This method computes the value of theta without gradient descent.\n",
    "'''\n",
    "\n",
    "def getThetaFromNormalEquation(X,y,theta):\n",
    "    theta_ne = np.array(np.linalg.inv(X.T@X)@(X.T)@y);\n",
    "    return theta_ne;"
   ]
  },
  {
   "cell_type": "code",
   "execution_count": 748,
   "id": "606c8197",
   "metadata": {},
   "outputs": [
    {
     "data": {
      "image/png": "[encoded data removed]",
      "text/plain": [
       "<Figure size 432x288 with 1 Axes>"
      ]
     },
     "metadata": {
      "needs_background": "light"
     },
     "output_type": "display_data"
    },
    {
     "name": "stdout",
     "output_type": "stream",
     "text": [
      "Parameter Vector - theta using Gradient Descent:\n",
      " [[334302.06399328]\n",
      " [100087.11600585]\n",
      " [  3673.54845093]]\n",
      "\n",
      "Parameter Vector - theta using Normal Equations:\n",
      " [[89597.9095428 ]\n",
      " [  139.21067402]\n",
      " [-8738.01911233]]\n"
     ]
    }
   ],
   "source": [
    "'''Loading the data set'''\n",
    "\n",
    "filename = 'ex1data2.txt'\n",
    "data = pd.read_csv(\n",
    "                   filename,\n",
    "                   sep=',',\n",
    "                   comment='#',\n",
    "                   na_values=['Nothing'],\n",
    "                   names=['Size', 'Rooms', 'Price']\n",
    "                  );\n",
    "\n",
    "# Building the training set and predicted output vector\n",
    "training_set = data[['Size', 'Rooms']];\n",
    "prices = data[['Price']];\n",
    "\n",
    "# Initialisation of other variables \n",
    "alpha = 0.01; #learning rate\n",
    "num_iters = 400; #number of iterations for gradient descent\n",
    "\n",
    "theta = np.zeros((training_set.shape[1]+1), dtype=float).reshape(-1,1);\n",
    "\n",
    "# returns a touple with normalised training data, mean and standard deviation of the features.\n",
    "mu = np.array(training_set.mean());\n",
    "sigma = np.array((training_set.T).std(1)).reshape(-1,1);\n",
    "normalisedTrainingSet = normaliseTrainingData(training_set, mu, sigma);\n",
    "\n",
    "theta_gradient_descent, j_history = gradientDescent(normalisedTrainingSet,prices,theta,alpha,num_iters);\n",
    "\n",
    "# plotting cost function's values to observe gradient descent\n",
    " \n",
    "x_axis = np.array([i+1 for i in range(len(j_history))]);\n",
    "X_Y_Spline = make_interp_spline(x_axis, j_history)\n",
    " \n",
    "# Returns evenly spaced numbers\n",
    "# over a specified interval.\n",
    "X_ = np.linspace(x_axis.min(), x_axis.max(), 500)\n",
    "Y_ = X_Y_Spline(X_)\n",
    "\n",
    "plt.plot(X_, Y_)\n",
    "plt.title(\"Cost Function Values\")\n",
    "plt.xlabel(\"Iterations\")\n",
    "plt.ylabel(\"Cost\")\n",
    "plt.show()\n",
    "\n",
    "# theta from normal equation method\n",
    "theta_normal_equations = getThetaFromNormalEquation(np.c_[np.ones(len(training_set)), \n",
    "                                                          np.array(training_set)], prices, theta);\n",
    "\n",
    "print('Parameter Vector - theta using Gradient Descent:\\n', theta_gradient_descent);\n",
    "\n",
    "print('\\nParameter Vector - theta using Normal Equations:\\n', theta_normal_equations);\n"
   ]
  },
  {
   "cell_type": "code",
   "execution_count": 780,
   "id": "df368888",
   "metadata": {},
   "outputs": [
    {
     "name": "stdout",
     "output_type": "stream",
     "text": [
      "Predicted price by Gradient Descent parameter vector is:  [[289314.62033778]]\n",
      "Predicted price by Normal Equation parameter vector is:  [[293081.46433489]]\n"
     ]
    }
   ],
   "source": [
    "'''\n",
    "    Comparison Block for parameter vector computed through Gradient Descent and Normal Equations Method.\n",
    "    \n",
    "    Input: Size and Number of bedrooms of the house - [1650, 3]\n",
    "    Output: Predicted Price using the 2 methods.\n",
    "'''\n",
    "# predicted price from gradient descent\n",
    "input_data = np.array([1650, 3]).reshape(-1,1);\n",
    "mu = mu.reshape(-1,1);\n",
    "\n",
    "# we are normalising the input data because the vector - theta is computed over normalised data.\n",
    "normalised_inputData_gd = np.concatenate((np.ones(1).reshape(-1,1), ((input_data - mu) / sigma)));\n",
    "\n",
    "print('Predicted price by Gradient Descent parameter vector is: ', normalised_inputData_gd.T@theta_gradient_descent);\n",
    "\n",
    "# predicted price from Normal Equation\n",
    "normalised_inputData_ne = np.concatenate((np.ones(1).reshape(-1,1),input_data));\n",
    "print('Predicted price by Normal Equation parameter vector is: ', normalised_inputData_ne.T@theta_normal_equations);"
   ]
  }
 ],
 "metadata": {
  "kernelspec": {
   "display_name": "Python 3 (ipykernel)",
   "language": "python",
   "name": "python3"
  },
  "language_info": {
   "codemirror_mode": {
    "name": "ipython",
    "version": 3
   },
   "file_extension": ".py",
   "mimetype": "text/x-python",
   "name": "python",
   "nbconvert_exporter": "python",
   "pygments_lexer": "ipython3",
   "version": "3.9.7"
  }
 },
 "nbformat": 4,
 "nbformat_minor": 5
}
